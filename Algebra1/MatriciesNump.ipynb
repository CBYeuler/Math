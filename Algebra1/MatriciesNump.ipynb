{
 "cells": [
  {
   "cell_type": "markdown",
   "id": "fce458b5",
   "metadata": {},
   "source": [
    "# Using Matrices To Store Data\n",
    "\n",
    "- what a matrix is and why matrices are useful.\n",
    "- How to create matrices using numpy\n",
    "- Accessing elements of a matrix\n",
    "\n",
    "\n",
    "Matrix is an ordered set of numbers.\n",
    "A matrix have to be ordered."
   ]
  },
  {
   "cell_type": "code",
   "execution_count": 1,
   "id": "1470c12a",
   "metadata": {},
   "outputs": [],
   "source": [
    "import sympy as sym\n",
    "import numpy as np\n",
    "from IPython.display import display, Math"
   ]
  },
  {
   "cell_type": "markdown",
   "id": "2999eaff",
   "metadata": {},
   "source": [
    "to create a matrix you specify the matrix each row at a time."
   ]
  },
  {
   "cell_type": "code",
   "execution_count": null,
   "id": "3c00ac5f",
   "metadata": {},
   "outputs": [
    {
     "data": {
      "text/latex": [
       "$\\displaystyle \\mathtt{\\text{[[1 2]\n",
       " [3 4]]}}$"
      ],
      "text/plain": [
       "<IPython.core.display.Math object>"
      ]
     },
     "metadata": {},
     "output_type": "display_data"
    },
    {
     "data": {
      "text/latex": [
       "$\\displaystyle \\left[\\begin{matrix}1 & 2\\\\3 & 4\\end{matrix}\\right]$"
      ],
      "text/plain": [
       "<IPython.core.display.Math object>"
      ]
     },
     "metadata": {},
     "output_type": "display_data"
    },
    {
     "data": {
      "text/latex": [
       "$\\displaystyle \\left[\\begin{matrix}1 & 2\\\\3 & 4\\end{matrix}\\right]$"
      ],
      "text/plain": [
       "<IPython.core.display.Math object>"
      ]
     },
     "metadata": {},
     "output_type": "display_data"
    },
    {
     "name": "stdout",
     "output_type": "stream",
     "text": [
      "[[1 2]\n",
      " [3 4]]\n"
     ]
    },
    {
     "data": {
      "text/plain": [
       "numpy.ndarray"
      ]
     },
     "execution_count": 10,
     "metadata": {},
     "output_type": "execute_result"
    }
   ],
   "source": [
    "A = [ [1,2],[3,4] ] # the outher brackects define the matrix , the inner brackects define each row\n",
    "#      1st   2nd\n",
    "B = np.array(A)\n",
    "  \n",
    "display(Math(sym.latex(B)))\n",
    "\n",
    "display(Math(sym.latex(sym.sympify(B))))\n",
    "\n",
    "display(Math(sym.latex(sym.Matrix(A)))) #this is another way to create a matrix using sympy \n",
    "print(B)\n",
    " \n",
    "type(A) # list\n",
    "type(B) # numpy.ndarray   "
   ]
  },
  {
   "cell_type": "markdown",
   "id": "b3027b19",
   "metadata": {},
   "source": [
    "### Creating a Matrix of all Zeroes"
   ]
  },
  {
   "cell_type": "code",
   "execution_count": 11,
   "id": "c8569b12",
   "metadata": {},
   "outputs": [
    {
     "data": {
      "text/plain": [
       "array([[0., 0., 0., 0.],\n",
       "       [0., 0., 0., 0.],\n",
       "       [0., 0., 0., 0.]])"
      ]
     },
     "execution_count": 11,
     "metadata": {},
     "output_type": "execute_result"
    }
   ],
   "source": [
    "np.zeros([3,4]) # 3 rows , 4 columns matrix of all zeroes"
   ]
  },
  {
   "cell_type": "code",
   "execution_count": 12,
   "id": "ebe3cca3",
   "metadata": {},
   "outputs": [
    {
     "data": {
      "text/latex": [
       "$\\displaystyle \\left[\\begin{matrix}0 & 5.0 & 0 & 0\\\\0 & 0 & 0 & 0\\\\0 & 0 & 0 & 0\\end{matrix}\\right]$"
      ],
      "text/plain": [
       "<IPython.core.display.Math object>"
      ]
     },
     "metadata": {},
     "output_type": "display_data"
    }
   ],
   "source": [
    "mat = np.zeros([3,4])\n",
    "mat[0,1] = 5 # access the element at 1st row , 2nd column and set it to 5\n",
    "display(Math(sym.latex(sym.Matrix(mat))))"
   ]
  },
  {
   "cell_type": "code",
   "execution_count": 14,
   "id": "8c0ae7e2",
   "metadata": {},
   "outputs": [
    {
     "data": {
      "text/latex": [
       "$\\displaystyle \\left[\\begin{matrix}1 & 2 & 3\\\\4 & 5 & 6\\\\7 & 8 & 9\\end{matrix}\\right]$"
      ],
      "text/plain": [
       "<IPython.core.display.Math object>"
      ]
     },
     "metadata": {},
     "output_type": "display_data"
    }
   ],
   "source": [
    "numrange = range(1,10) # numbers from 1 to 9\n",
    "mat2 = np.array( [ [i+j*3 for i in numrange[0:3]] for j in range(3) ] )\n",
    "display(Math(sym.latex(sym.Matrix(mat2))))"
   ]
  },
  {
   "cell_type": "code",
   "execution_count": null,
   "id": "415c563f",
   "metadata": {},
   "outputs": [
    {
     "data": {
      "text/plain": [
       "array([[ 0., -1.,  0.,  0.],\n",
       "       [-1.,  2., -3.,  4.],\n",
       "       [ 0.,  0.,  0.,  0.]])"
      ]
     },
     "execution_count": 19,
     "metadata": {},
     "output_type": "execute_result"
    }
   ],
   "source": [
    "numrange = range(0,2) # numbers from 0 to 1\n",
    "for rowi in numrange:\n",
    "    for coli in numrange:\n",
    "        mat[rowi,coli] = (-1)**(rowi+coli)*(rowi+coli)\n",
    "mat"
   ]
  },
  {
   "cell_type": "markdown",
   "id": "823cdfff",
   "metadata": {},
   "source": [
    "## Matrices Exercise\n",
    "f(x,y) = (4+x)(2-y)\n",
    "x,y E {0,1,2}"
   ]
  },
  {
   "cell_type": "code",
   "execution_count": 25,
   "id": "444dfea1",
   "metadata": {},
   "outputs": [
    {
     "data": {
      "text/latex": [
       "$\\displaystyle f{\\left(x,y \\right)} = \\left(2 - y\\right) \\left(x + 4\\right)$"
      ],
      "text/plain": [
       "<IPython.core.display.Math object>"
      ]
     },
     "metadata": {},
     "output_type": "display_data"
    },
    {
     "data": {
      "text/latex": [
       "$\\displaystyle \\left[\\begin{matrix}8.0 & 4.0 & 0\\\\10.0 & 5.0 & 0\\\\12.0 & 6.0 & 0\\end{matrix}\\right]$"
      ],
      "text/plain": [
       "<IPython.core.display.Math object>"
      ]
     },
     "metadata": {},
     "output_type": "display_data"
    }
   ],
   "source": [
    "import sympy as sym\n",
    "from sympy import Function\n",
    "import numpy as np\n",
    "from IPython.display import display, Math\n",
    "from sympy.abc import x,y\n",
    "\n",
    "f = Function('f')(x,y)\n",
    "Fxy = (4+x)*(2-y)\n",
    "table = np.zeros([3,3])\n",
    "vals = [0,1,2]\n",
    "for i in range(3):\n",
    "    for j in range(3):\n",
    "        table[i,j] = Fxy.subs({x:vals[i],y:vals[j]})\n",
    "display(Math(sym.latex(f) + ' = ' + sym.latex(Fxy)))\n",
    "display(Math(sym.latex(sym.Matrix(table))))"
   ]
  },
  {
   "cell_type": "code",
   "execution_count": null,
   "id": "96267150",
   "metadata": {},
   "outputs": [],
   "source": []
  }
 ],
 "metadata": {
  "kernelspec": {
   "display_name": "base",
   "language": "python",
   "name": "python3"
  },
  "language_info": {
   "codemirror_mode": {
    "name": "ipython",
    "version": 3
   },
   "file_extension": ".py",
   "mimetype": "text/x-python",
   "name": "python",
   "nbconvert_exporter": "python",
   "pygments_lexer": "ipython3",
   "version": "3.11.7"
  }
 },
 "nbformat": 4,
 "nbformat_minor": 5
}
