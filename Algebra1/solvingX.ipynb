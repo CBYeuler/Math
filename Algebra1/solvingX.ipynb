{
 "cells": [
  {
   "cell_type": "code",
   "execution_count": null,
   "id": "455e1e43",
   "metadata": {},
   "outputs": [],
   "source": [
    "import sympy as sym\n",
    "from IPython.display import display, Math"
   ]
  },
  {
   "cell_type": "code",
   "execution_count": null,
   "id": "22e8dc35",
   "metadata": {},
   "outputs": [
    {
     "data": {
      "text/plain": [
       "[5/2]"
      ]
     },
     "execution_count": 8,
     "metadata": {},
     "output_type": "execute_result"
    }
   ],
   "source": [
    "x = sym.symbols('x')\n",
    "expr = 2*x + 4 - 9 \n",
    "sym.solve(expr, x)"
   ]
  },
  {
   "cell_type": "code",
   "execution_count": 14,
   "id": "906ed944",
   "metadata": {},
   "outputs": [
    {
     "data": {
      "text/latex": [
       "$\\displaystyle \\text{The solution to}\\ 2x + 4 = 9 \\ \\ is \\ x = 2.5$"
      ],
      "text/plain": [
       "<IPython.core.display.Math object>"
      ]
     },
     "metadata": {},
     "output_type": "display_data"
    }
   ],
   "source": [
    "display(Math('\\\\text{The solution to}\\\\ 2x + 4 = 9 \\\\ \\\\ is \\\\ x = 2.5'))"
   ]
  },
  {
   "cell_type": "code",
   "execution_count": 19,
   "id": "cd6b93e4",
   "metadata": {},
   "outputs": [
    {
     "name": "stdout",
     "output_type": "stream",
     "text": [
      "<class 'list'>\n",
      "2\n",
      "[-2, 2]\n"
     ]
    }
   ],
   "source": [
    "sol = sym.solve(x**2 - 4, x)\n",
    "# because there are two solutions, we can check the type and length of the result\n",
    "print(type(sol))\n",
    "print(len(sol))\n",
    "print(sol)"
   ]
  },
  {
   "cell_type": "code",
   "execution_count": 24,
   "id": "76ec676c",
   "metadata": {},
   "outputs": [
    {
     "data": {
      "text/latex": [
       "$\\displaystyle The \\ solution \\ -1 \\ to \\ x^2 -4 = 0 \\ \\ is \\ x = -2$"
      ],
      "text/plain": [
       "<IPython.core.display.Math object>"
      ]
     },
     "metadata": {},
     "output_type": "display_data"
    },
    {
     "data": {
      "text/latex": [
       "$\\displaystyle The \\ solution \\ 0 \\ to \\ x^2 -4 = 0 \\ \\ is \\ x = 2$"
      ],
      "text/plain": [
       "<IPython.core.display.Math object>"
      ]
     },
     "metadata": {},
     "output_type": "display_data"
    }
   ],
   "source": [
    "expr = x**2 - 4\n",
    "sym.solve(expr, x)\n",
    "for i in range(len(sol)):\n",
    "    display(Math(f'The \\\\ solution \\\\ {i-1} \\\\ to \\\\ x^2 -4 = 0 \\\\ \\\\ is \\\\ x = {sol[i]}'))"
   ]
  },
  {
   "cell_type": "markdown",
   "id": "557c1875",
   "metadata": {},
   "source": [
    "Examples"
   ]
  },
  {
   "cell_type": "code",
   "execution_count": 25,
   "id": "89868143",
   "metadata": {},
   "outputs": [],
   "source": [
    "#Examples of solving for x in different equations"
   ]
  },
  {
   "cell_type": "code",
   "execution_count": 34,
   "id": "9959a3b1",
   "metadata": {},
   "outputs": [
    {
     "data": {
      "text/latex": [
       "$\\displaystyle - 2 q - 4 + \\frac{3}{q} = 0$"
      ],
      "text/plain": [
       "<IPython.core.display.Math object>"
      ]
     },
     "metadata": {},
     "output_type": "display_data"
    },
    {
     "data": {
      "text/latex": [
       "$\\displaystyle q = \\left[ -1 + \\frac{\\sqrt{10}}{2}, \\  - \\frac{\\sqrt{10}}{2} - 1\\right]$"
      ],
      "text/plain": [
       "<IPython.core.display.Math object>"
      ]
     },
     "metadata": {},
     "output_type": "display_data"
    },
    {
     "data": {
      "text/latex": [
       "$\\displaystyle \\text{The solutions to}\\ 3q + \\frac{4}{q} + 3 = 5q + \\frac{1}{q} + 7 \\ \\ are \\ q = 1 \\ \\ and \\ \\ q = -2$"
      ],
      "text/plain": [
       "<IPython.core.display.Math object>"
      ]
     },
     "metadata": {},
     "output_type": "display_data"
    }
   ],
   "source": [
    "# 3*q + 4/q + 3 = 5*q + 1/q + 7\n",
    "#expr = 3*sym.symbols('q') + 4/sym.symbols('q') + 3 - (5*sym.symbols('q') + 1/sym.symbols('q') + 7)\n",
    "q = sym.symbols('q')\n",
    "expr = 3*q + 4/q + 3 - (5*q + 1/q + 7)\n",
    "sym.solve(expr, q)\n",
    "display(Math(sym.latex(expr)+' = 0'))\n",
    "display(Math('q = ' + sym.latex(sym.solve(expr, q))))\n",
    "display(Math('\\\\text{The solutions to}\\\\ 3q + \\\\frac{4}{q} + 3 = 5q + \\\\frac{1}{q} + 7 \\\\ \\\\ are \\\\ q = 1 \\\\ \\\\ and \\\\ \\\\ q = -2'))\n"
   ]
  },
  {
   "cell_type": "code",
   "execution_count": 40,
   "id": "6e3a8ba1",
   "metadata": {},
   "outputs": [
    {
     "data": {
      "text/latex": [
       "$\\displaystyle 3 q^{2} + 2 q - \\frac{5}{q} - \\frac{4}{q^{3}} = 0$"
      ],
      "text/plain": [
       "<IPython.core.display.Math object>"
      ]
     },
     "metadata": {},
     "output_type": "display_data"
    },
    {
     "data": {
      "text/latex": [
       "$\\displaystyle q = \\left[ \\operatorname{CRootOf} {\\left(3 x^{5} + 2 x^{4} - 5 x^{2} - 4, 0\\right)}, \\  \\operatorname{CRootOf} {\\left(3 x^{5} + 2 x^{4} - 5 x^{2} - 4, 1\\right)}, \\  \\operatorname{CRootOf} {\\left(3 x^{5} + 2 x^{4} - 5 x^{2} - 4, 2\\right)}, \\  \\operatorname{CRootOf} {\\left(3 x^{5} + 2 x^{4} - 5 x^{2} - 4, 3\\right)}, \\  \\operatorname{CRootOf} {\\left(3 x^{5} + 2 x^{4} - 5 x^{2} - 4, 4\\right)}\\right]$"
      ],
      "text/plain": [
       "<IPython.core.display.Math object>"
      ]
     },
     "metadata": {},
     "output_type": "display_data"
    },
    {
     "data": {
      "text/latex": [
       "$\\displaystyle \\text{The solutions to}\\ 2q + 3q^{2} - \\frac{5}{q} - \\frac{4}{q^{3}} \\ \\ are \\ q = 2 \\ , \\ q = -1 \\ , \\ q = \\frac{1 + \\sqrt{5}}{3} \\ , \\ \\text{and} \\ \\ q = \\frac{1 - \\sqrt{5}}{3}$"
      ],
      "text/plain": [
       "<IPython.core.display.Math object>"
      ]
     },
     "metadata": {},
     "output_type": "display_data"
    }
   ],
   "source": [
    "#2*q + 3*q**2 - 5/q - 4/q**3\n",
    "expr = 2*q + 3*q**2 - 5/q - 4/q**3\n",
    "sym.solve(expr, q)\n",
    "display(Math(sym.latex(expr) + ' = 0'))\n",
    "display(Math('q = ' + sym.latex(sym.solve(expr, q))))\n",
    "display(Math('\\\\text{The solutions to}\\\\ 2q + 3q^{2} - \\\\frac{5}{q} - \\\\frac{4}{q^{3}} \\\\ \\\\ are \\\\ q = 2 \\\\ , \\\\ q = -1 \\\\ , \\\\ q = \\\\frac{1 + \\\\sqrt{5}}{3} \\\\ , \\\\ \\\\text{and} \\\\ \\\\ q = \\\\frac{1 - \\\\sqrt{5}}{3}'))     "
   ]
  },
  {
   "cell_type": "code",
   "execution_count": 48,
   "id": "21a7c1af",
   "metadata": {},
   "outputs": [
    {
     "data": {
      "text/latex": [
       "$\\displaystyle -1 + \\frac{\\sqrt{15} q + \\sqrt{3}}{\\sqrt{10} q + \\sqrt{2}} = o$"
      ],
      "text/plain": [
       "<IPython.core.display.Math object>"
      ]
     },
     "metadata": {},
     "output_type": "display_data"
    },
    {
     "data": {
      "text/latex": [
       "$\\displaystyle \\frac{- 2 \\sqrt{5} q + \\sqrt{30} q - 2 + \\sqrt{6}}{2 \\left(\\sqrt{5} q + 1\\right)}$"
      ],
      "text/plain": [
       "<IPython.core.display.Math object>"
      ]
     },
     "metadata": {},
     "output_type": "display_data"
    },
    {
     "data": {
      "text/latex": [
       "$\\displaystyle -1 + \\frac{\\sqrt{6}}{2}$"
      ],
      "text/plain": [
       "<IPython.core.display.Math object>"
      ]
     },
     "metadata": {},
     "output_type": "display_data"
    },
    {
     "data": {
      "text/latex": [
       "$\\displaystyle q = \\left[ \\right]$"
      ],
      "text/plain": [
       "<IPython.core.display.Math object>"
      ]
     },
     "metadata": {},
     "output_type": "display_data"
    },
    {
     "data": {
      "text/latex": [
       "$\\displaystyle \\text{The solution to} \\ \\ \\frac{\\sqrt{3} + \\sqrt{15} q}{\\sqrt{2} + \\sqrt{10} q} = 1 \\ \\ \\text{is} \\ \\ q = \\frac{\\sqrt{3} - \\sqrt{2}}{\\sqrt{10} - \\sqrt{15}}$"
      ],
      "text/plain": [
       "<IPython.core.display.Math object>"
      ]
     },
     "metadata": {},
     "output_type": "display_data"
    }
   ],
   "source": [
    "# (3**(1/2) + 15**(1/2) *q) / (2**(1/2) + 10**(1/2) * q)\n",
    "#expr = (3**(1/2) + 15**(1/2) *q) / (2**(1/2) + 10**(1/2) * q)\n",
    "expr = (sym.sqrt(3) + sym.sqrt(15) *q) / (sym.sqrt(2) + sym.sqrt(10) * q) - 1\n",
    "sym.solve(expr, q)\n",
    "display(Math(sym.latex(expr) + ' = o'))\n",
    "display(Math(sym.latex(sym.simplify(expr))))\n",
    "display(Math(sym.latex(sym.cancel(expr))))\n",
    "display(Math('q = ' + sym.latex(sym.solve(expr, q))))\n",
    "display(Math('\\\\text{The solution to} \\\\ \\\\ \\\\frac{\\\\sqrt{3} + \\\\sqrt{15} q}{\\\\sqrt{2} + \\\\sqrt{10} q} = 1 \\\\ \\\\ \\\\text{is} \\\\ \\\\ q = \\\\frac{\\\\sqrt{3} - \\\\sqrt{2}}{\\\\sqrt{10} - \\\\sqrt{15}}'))"
   ]
  },
  {
   "cell_type": "code",
   "execution_count": null,
   "id": "8de66e1b",
   "metadata": {},
   "outputs": [],
   "source": []
  }
 ],
 "metadata": {
  "kernelspec": {
   "display_name": "base",
   "language": "python",
   "name": "python3"
  },
  "language_info": {
   "codemirror_mode": {
    "name": "ipython",
    "version": 3
   },
   "file_extension": ".py",
   "mimetype": "text/x-python",
   "name": "python",
   "nbconvert_exporter": "python",
   "pygments_lexer": "ipython3",
   "version": "3.11.7"
  }
 },
 "nbformat": 4,
 "nbformat_minor": 5
}
