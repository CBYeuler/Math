{
 "cells": [
  {
   "cell_type": "markdown",
   "id": "910d57f6",
   "metadata": {},
   "source": [
    "# Associative, Commutative, Distributive Properties\n",
    "\n",
    "- The associative property\n",
    "- The commutative property\n",
    "- The distributive property"
   ]
  },
  {
   "cell_type": "code",
   "execution_count": null,
   "id": "7478c389",
   "metadata": {},
   "outputs": [],
   "source": []
  }
 ],
 "metadata": {
  "kernelspec": {
   "display_name": "base",
   "language": "python",
   "name": "python3"
  },
  "language_info": {
   "name": "python",
   "version": "3.11.7"
  }
 },
 "nbformat": 4,
 "nbformat_minor": 5
}
