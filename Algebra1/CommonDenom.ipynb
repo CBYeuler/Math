{
 "cells": [
  {
   "cell_type": "markdown",
   "id": "fc0a38c0",
   "metadata": {},
   "source": [
    "# Greatest Common Denominator\n",
    "\n",
    "- The definition of GCD (sometimes called greatest common factor)\n",
    "- Hoe to implement GCD in Python using the *Math* package"
   ]
  },
  {
   "cell_type": "markdown",
   "id": "720979b3",
   "metadata": {},
   "source": [
    "GCD = It is defined as ==**the Largest integer**== that divides into *two numbers* with no remainder.\n"
   ]
  },
  {
   "cell_type": "markdown",
   "id": "bc7baf9a",
   "metadata": {},
   "source": [
    "##### Examples:\n",
    "- gcd(2,4) = 2\n",
    "- gcd(6,15) = 3\n",
    "- gcd(6,17) = 1"
   ]
  },
  {
   "cell_type": "code",
   "execution_count": 7,
   "id": "3d47b2a3",
   "metadata": {},
   "outputs": [
    {
     "data": {
      "text/plain": [
       "12"
      ]
     },
     "execution_count": 7,
     "metadata": {},
     "output_type": "execute_result"
    }
   ],
   "source": [
    "import math\n",
    "from IPython.display import display, Math\n",
    "\n",
    "\n",
    "math.gcd(48, 180) #Output: 12"
   ]
  },
  {
   "cell_type": "markdown",
   "id": "1c4ee8d6",
   "metadata": {},
   "source": [
    "!In GCD you cannot use a float object.!"
   ]
  },
  {
   "cell_type": "code",
   "execution_count": 13,
   "id": "4a916dd5",
   "metadata": {},
   "outputs": [
    {
     "data": {
      "text/latex": [
       "$\\displaystyle \\frac{a}{b} = \\frac{a\\times c}{b\\times c}$"
      ],
      "text/plain": [
       "<IPython.core.display.Math object>"
      ]
     },
     "metadata": {},
     "output_type": "display_data"
    },
    {
     "data": {
      "text/latex": [
       "$\\displaystyle \\frac{2}{3} = \\frac{2\\times 24}{3\\times 24} $"
      ],
      "text/plain": [
       "<IPython.core.display.Math object>"
      ]
     },
     "metadata": {},
     "output_type": "display_data"
    },
    {
     "data": {
      "text/latex": [
       "$\\displaystyle \\frac{48}{72} = \\frac{2}{3}$"
      ],
      "text/plain": [
       "<IPython.core.display.Math object>"
      ]
     },
     "metadata": {},
     "output_type": "display_data"
    }
   ],
   "source": [
    "# application\n",
    "a = 48 \n",
    "b = 72\n",
    "\n",
    "fact = math.gcd(a,b)\n",
    "\n",
    "display(Math('\\\\frac{a}{b} = \\\\frac{a\\\\times c}{b\\\\times c}'))\n",
    "display(Math('\\\\frac{%d}{%d} = \\\\frac{%d\\\\times %d}{%d\\\\times %d} ' % (a//fact, b//fact, a//fact, fact, b//fact, fact)))\n",
    "display(Math('\\\\frac{%d}{%d} = \\\\frac{%d}{%d}' % (a, b, a//fact, b//fact)))"
   ]
  },
  {
   "cell_type": "markdown",
   "id": "2c9a90f4",
   "metadata": {},
   "source": [
    "##### Exercises\n",
    "- point is to illustrate the properties using symbolic variables.\n",
    "- then show an example with numbers.\n",
    "$ => gcd(ca,cb) = cgcd(a,b)$"
   ]
  },
  {
   "cell_type": "code",
   "execution_count": null,
   "id": "e71f5439",
   "metadata": {},
   "outputs": [
    {
     "data": {
      "text/latex": [
       "$\\displaystyle gcd(ca,cb) = cgcd(a,b)$"
      ],
      "text/plain": [
       "<IPython.core.display.Math object>"
      ]
     },
     "metadata": {},
     "output_type": "display_data"
    },
    {
     "data": {
      "text/latex": [
       "$\\displaystyle \\frac{a}{b} = \\frac{a\\times c}{b\\times c}$"
      ],
      "text/plain": [
       "<IPython.core.display.Math object>"
      ]
     },
     "metadata": {},
     "output_type": "display_data"
    },
    {
     "data": {
      "text/latex": [
       "$\\displaystyle \\frac{2}{3} = \\frac{2\\times 24}{3\\times 24} $"
      ],
      "text/plain": [
       "<IPython.core.display.Math object>"
      ]
     },
     "metadata": {},
     "output_type": "display_data"
    },
    {
     "data": {
      "text/latex": [
       "$\\displaystyle \\frac{48}{72} = \\frac{2}{3}$"
      ],
      "text/plain": [
       "<IPython.core.display.Math object>"
      ]
     },
     "metadata": {},
     "output_type": "display_data"
    },
    {
     "data": {
      "text/latex": [
       "$\\displaystyle gcd({48,72 }) = 24$"
      ],
      "text/plain": [
       "<IPython.core.display.Math object>"
      ]
     },
     "metadata": {},
     "output_type": "display_data"
    }
   ],
   "source": [
    "import sympy as sym\n",
    "import math\n",
    "from IPython.display import display, Math\n",
    "\n",
    "a,b,c = sym.symbols('a b c', integer = True)\n",
    "\n",
    "display(Math('gcd(ca,cb) = cgcd(a,b)'))\n",
    "\n",
    "example_a = 48\n",
    "example_b = 72\n",
    "fact = math.gcd(example_a, example_b)\n",
    "\n",
    "display(Math('\\\\frac{a}{b} = \\\\frac{a\\\\times c}{b\\\\times c}'))\n",
    "display(Math('\\\\frac{%d}{%d} = \\\\frac{%d\\\\times %d}{%d\\\\times %d} ' % (example_a//fact, example_b//fact, example_a//fact, fact, example_b//fact, fact)))\n",
    "display(Math('\\\\frac{%d}{%d} = \\\\frac{%d}{%d}' % (example_a, example_b, example_a//fact, example_b//fact)))\n",
    "display(Math('gcd({%d,%d }) = %d' % (example_a, example_b, fact)))"
   ]
  },
  {
   "cell_type": "markdown",
   "id": "74c4a5b9",
   "metadata": {},
   "source": [
    "- create a matrix that contains 10 rows and 15 columns, where each element is equal to 99\n",
    "- populate the matrix such that the $i^(th)$ row and $j^(th)$ column contains $gcd(i+1,j+1)$"
   ]
  },
  {
   "cell_type": "code",
   "execution_count": 19,
   "id": "a2d7d1c3",
   "metadata": {},
   "outputs": [
    {
     "data": {
      "text/latex": [
       "$\\displaystyle \\begin{bmatrix} 1 & 1 & 1 & 1 & 1 & 1 & 1 & 1 & 1 & 1 & 1 & 1 & 1 & 1 & 1 \\\\ 1 & 2 & 1 & 2 & 1 & 2 & 1 & 2 & 1 & 2 & 1 & 2 & 1 & 2 & 1 \\\\ 1 & 1 & 3 & 1 & 1 & 3 & 1 & 1 & 3 & 1 & 1 & 3 & 1 & 1 & 3 \\\\ 1 & 2 & 1 & 4 & 1 & 2 & 1 & 4 & 1 & 2 & 1 & 4 & 1 & 2 & 1 \\\\ 1 & 1 & 1 & 1 & 5 & 1 & 1 & 1 & 1 & 5 & 1 & 1 & 1 & 1 & 5 \\\\ 1 & 2 & 3 & 2 & 1 & 6 & 1 & 2 & 3 & 2 & 1 & 6 & 1 & 2 & 3 \\\\ 1 & 1 & 1 & 1 & 1 & 1 & 7 & 1 & 1 & 1 & 1 & 1 & 1 & 7 & 1 \\\\ 1 & 2 & 1 & 4 & 1 & 2 & 1 & 8 & 1 & 2 & 1 & 4 & 1 & 2 & 1 \\\\ 1 & 1 & 3 & 1 & 1 & 3 & 1 & 1 & 9 & 1 & 1 & 3 & 1 & 1 & 3 \\\\ 1 & 2 & 1 & 2 & 5 & 2 & 1 & 2 & 1 & 10 & 1 & 2 & 1 & 2 & 5 \\end{bmatrix}$"
      ],
      "text/plain": [
       "<IPython.core.display.Math object>"
      ]
     },
     "metadata": {},
     "output_type": "display_data"
    }
   ],
   "source": [
    "import sympy as sp\n",
    "import numpy as np\n",
    "from IPython.display import display, Math\n",
    "import math\n",
    "\n",
    "rows, cols = 10, 15\n",
    "matrix = np.zeros((rows,cols), dtype=int)\n",
    "for i in range(rows):\n",
    "    for j in range(cols):\n",
    "        matrix[i,j] = math.gcd(i+1, j+1)\n",
    "display(Math('\\\\begin{bmatrix} ' + ' \\\\\\\\ '.join([' & '.join([str(matrix[i,j]) for j in range(cols)]) for i in range(rows)]) + ' \\\\end{bmatrix}'))\n"
   ]
  }
 ],
 "metadata": {
  "kernelspec": {
   "display_name": "base",
   "language": "python",
   "name": "python3"
  },
  "language_info": {
   "codemirror_mode": {
    "name": "ipython",
    "version": 3
   },
   "file_extension": ".py",
   "mimetype": "text/x-python",
   "name": "python",
   "nbconvert_exporter": "python",
   "pygments_lexer": "ipython3",
   "version": "3.11.7"
  }
 },
 "nbformat": 4,
 "nbformat_minor": 5
}
