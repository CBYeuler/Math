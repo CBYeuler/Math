{
 "cells": [
  {
   "cell_type": "markdown",
   "id": "da19b639",
   "metadata": {},
   "source": [
    "# Creating and working with Lists in Python\n",
    "\n",
    "- how to create lists\n",
    "- how to access elements or sets of elements of lists\n",
    "- an introduction to \"slicing\""
   ]
  },
  {
   "cell_type": "code",
   "execution_count": 1,
   "id": "69561c9d",
   "metadata": {},
   "outputs": [],
   "source": [
    "lst = [1,2,3,4] # native list type for python"
   ]
  },
  {
   "cell_type": "code",
   "execution_count": 2,
   "id": "6eeac236",
   "metadata": {},
   "outputs": [
    {
     "data": {
      "text/plain": [
       "4"
      ]
     },
     "execution_count": 2,
     "metadata": {},
     "output_type": "execute_result"
    }
   ],
   "source": [
    "lst[0] # first element\n",
    "lst[-1] # last element"
   ]
  },
  {
   "cell_type": "code",
   "execution_count": 3,
   "id": "ad9a596b",
   "metadata": {},
   "outputs": [
    {
     "data": {
      "text/plain": [
       "[4, 3, 2, 1]"
      ]
     },
     "execution_count": 3,
     "metadata": {},
     "output_type": "execute_result"
    }
   ],
   "source": [
    "# slicing\n",
    "lst[:2] # first two elements\n",
    "lst[1:3] # elements from index 1 to 2\n",
    "lst[2:] # elements from index 2 to end\n",
    "lst[:] # all elements\n",
    "lst[-2:] # last two elements\n",
    "lst[:-2] # all but last two elements\n",
    "lst[::2] # every second element\n",
    "lst[::-1] # reversed list"
   ]
  },
  {
   "cell_type": "markdown",
   "id": "45500c91",
   "metadata": {},
   "source": [
    "### Exercises"
   ]
  },
  {
   "cell_type": "code",
   "execution_count": 27,
   "id": "e21bb616",
   "metadata": {},
   "outputs": [
    {
     "data": {
      "text/latex": [
       "$\\displaystyle x \\left(7 - 6 x\\right) \\quad \\Longleftrightarrow \\quad - 6 x^{2} + 7 x$"
      ],
      "text/plain": [
       "<IPython.core.display.Math object>"
      ]
     },
     "metadata": {},
     "output_type": "display_data"
    },
    {
     "data": {
      "text/latex": [
       "$\\displaystyle 4 x \\left(x - 1\\right) \\quad \\Longleftrightarrow \\quad 4 x^{2} - 4 x$"
      ],
      "text/plain": [
       "<IPython.core.display.Math object>"
      ]
     },
     "metadata": {},
     "output_type": "display_data"
    },
    {
     "data": {
      "text/latex": [
       "$\\displaystyle x \\left(2 x + 5\\right) \\quad \\Longleftrightarrow \\quad 2 x^{2} + 5 x$"
      ],
      "text/plain": [
       "<IPython.core.display.Math object>"
      ]
     },
     "metadata": {},
     "output_type": "display_data"
    }
   ],
   "source": [
    "from IPython.display import display, Math\n",
    "import sympy as sym\n",
    "x=sym.symbols('x')\n",
    "e1 = 2*x + x*(4-6*x) + x\n",
    "e2 = x*(x+1) + 3*x*(x-2) + x\n",
    "e3 = x*(x-1) + x*(x+2) + 4*x\n",
    "exprs = [e1,e2,e3]\n",
    "exprs[0] # first expression\n",
    "exprs[1] # second expression\n",
    "exprs[2] # third expression\n",
    "for expr in exprs:\n",
    "    display(Math(r'%s \\quad \\Longleftrightarrow \\quad %s' % (sym.latex(sym.simplify(expr)), sym.latex(sym.expand(expr)))))"
   ]
  },
  {
   "cell_type": "markdown",
   "id": "f02775a2",
   "metadata": {},
   "source": [
    "#### More On Slicing"
   ]
  },
  {
   "cell_type": "code",
   "execution_count": 31,
   "id": "a1fd2348",
   "metadata": {},
   "outputs": [
    {
     "data": {
      "text/plain": [
       "range"
      ]
     },
     "execution_count": 31,
     "metadata": {},
     "output_type": "execute_result"
    }
   ],
   "source": [
    "vector = range(10,21)\n",
    "type(vector) # range type\n"
   ]
  },
  {
   "cell_type": "code",
   "execution_count": 30,
   "id": "1f24edb6",
   "metadata": {},
   "outputs": [
    {
     "data": {
      "text/plain": [
       "[10, 11, 12, 13, 14]"
      ]
     },
     "execution_count": 30,
     "metadata": {},
     "output_type": "execute_result"
    }
   ],
   "source": [
    "vector = list(vector) # convert range to list\n",
    "vector[0:5] # first five elements"
   ]
  }
 ],
 "metadata": {
  "kernelspec": {
   "display_name": "base",
   "language": "python",
   "name": "python3"
  },
  "language_info": {
   "codemirror_mode": {
    "name": "ipython",
    "version": 3
   },
   "file_extension": ".py",
   "mimetype": "text/x-python",
   "name": "python",
   "nbconvert_exporter": "python",
   "pygments_lexer": "ipython3",
   "version": "3.11.7"
  }
 },
 "nbformat": 4,
 "nbformat_minor": 5
}
